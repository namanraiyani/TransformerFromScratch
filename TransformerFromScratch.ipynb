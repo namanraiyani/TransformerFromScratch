{
  "nbformat": 4,
  "nbformat_minor": 0,
  "metadata": {
    "colab": {
      "provenance": [],
      "authorship_tag": "ABX9TyMxbXqjas19MLJB4vzA0VPV",
      "include_colab_link": true
    },
    "kernelspec": {
      "name": "python3",
      "display_name": "Python 3"
    },
    "language_info": {
      "name": "python"
    }
  },
  "cells": [
    {
      "cell_type": "markdown",
      "metadata": {
        "id": "view-in-github",
        "colab_type": "text"
      },
      "source": [
        "<a href=\"https://colab.research.google.com/github/namanraiyani/TransformerFromScratch/blob/main/TransformerFromScratch.ipynb\" target=\"_parent\"><img src=\"https://colab.research.google.com/assets/colab-badge.svg\" alt=\"Open In Colab\"/></a>"
      ]
    },
    {
      "cell_type": "code",
      "source": [
        "import torch\n",
        "import torch.nn as nn\n",
        "from torch.utils.data import Dataset, DataLoader, random_split\n",
        "from torch.utils.tensorboard import SummaryWriter\n",
        "import math\n",
        "from datasets import load_dataset\n",
        "from tokenizers import Tokenizer\n",
        "from tokenizers.models import WordLevel\n",
        "from tokenizers.trainers import WordLevelTrainer\n",
        "from tokenizers.pre_tokenizers import Whitespace"
      ],
      "metadata": {
        "id": "9tlp1WK50f3_"
      },
      "execution_count": 7,
      "outputs": []
    },
    {
      "cell_type": "markdown",
      "source": [
        "Input Embedding"
      ],
      "metadata": {
        "id": "A3R4c_dt6pn7"
      }
    },
    {
      "cell_type": "code",
      "source": [
        "class InputEmbeddings(nn.Module):\n",
        "  def __init__(self, embedding_dim, vocab_size):   # embedding_dim is d_model\n",
        "    super().__init__()\n",
        "    self.embedding_dim = embedding_dim\n",
        "    self.vocab_size = vocab_size\n",
        "    self.embedding = nn.Embedding(vocab_size, embedding_dim)\n",
        "\n",
        "  def forward(self, x):\n",
        "    return self.embedding(x) * math.sqrt(self.embedding_dim) # scale embeddings to match positional encoding scale"
      ],
      "metadata": {
        "id": "x2tWcjXuuH4A"
      },
      "execution_count": 8,
      "outputs": []
    },
    {
      "cell_type": "markdown",
      "source": [
        "Positional Encoding"
      ],
      "metadata": {
        "id": "qQtLartK6uJJ"
      }
    },
    {
      "cell_type": "code",
      "source": [
        "class PositionalEncoding(nn.Module):\n",
        "  def __init__(self, embedding_dim, sequence_len, dropout):\n",
        "    super().__init__()\n",
        "    self.embedding_dim = embedding_dim\n",
        "    self.sequence_len = sequence_len\n",
        "    self.dropout = nn.Dropout(dropout)\n",
        "\n",
        "    PE = torch.zeros(sequence_len, embedding_dim)\n",
        "    position = torch.arange(0, sequence_len, dtype = torch.float)\n",
        "    positition = position.unsqueeze(1)\n",
        "\n",
        "    denominator_term = torch.exp(torch.arange(0, embedding_dim, step = 2).float() * (-math.log(10000.0) / embedding_dim))\n",
        "\n",
        "    PE[:, 0::2] = torch.sin(position * denominator_term)\n",
        "    PE[:, 1::2] = torch.cos(position * denominator_term)\n",
        "    PE = PE.unsqueeze(0)\n",
        "\n",
        "    self.register_buffer('PE', PE)\n",
        "\n",
        "  def forward(self, x):\n",
        "    x = x + (self.PE[:, :x.shape[1], :]).requires_grad_(False)\n",
        "    return self.dropout(x)"
      ],
      "metadata": {
        "id": "DIneExxI0gkI"
      },
      "execution_count": 9,
      "outputs": []
    },
    {
      "cell_type": "markdown",
      "source": [
        "MultiHead Attention"
      ],
      "metadata": {
        "id": "IWt7H9H0DXFB"
      }
    },
    {
      "cell_type": "code",
      "source": [
        "class MultiHeadAttentionBlock(nn.Module):\n",
        "  def __init__(self, embedding_dim, h, dropout):\n",
        "    super().__init__()\n",
        "    self.embedding_dim = embedding_dim\n",
        "    self.h = h\n",
        "\n",
        "    assert embedding_dim % h == 0, \"embedding_dim is not divisible by h\"\n",
        "\n",
        "    self.d_k = embedding_dim // h\n",
        "    self.w_q = nn.Linear(embedding_dim, embedding_dim)\n",
        "    self.w_k = nn.Linear(embedding_dim, embedding_dim)\n",
        "    self.w_v = nn.Linear(embedding_dim, embedding_dim)\n",
        "    self.w_o = nn.Linear(embedding_dim, embedding_dim)\n",
        "\n",
        "    self.dropout = nn.Dropout(dropout)\n",
        "\n",
        "  @staticmethod\n",
        "  def attention(query, key, value, mask, dropout):\n",
        "    d_k = query.shape[-1]\n",
        "    attention_score = (query @ key.transpose(-2, -1)) / math.sqrt(d_k)\n",
        "    if mask is not None:\n",
        "      attention_score.masked_fill_(mask == 0, -1e9)\n",
        "    attention_score = attention_score.softmax(dim = -1)\n",
        "    if dropout is not None:\n",
        "      attention_score = dropout(attention_score)\n",
        "    return (attention_score @ value), attention_score\n",
        "\n",
        "  def forward(self, q, k, v, mask):\n",
        "    query = self.w_q(q)\n",
        "    key = self.w_k(k)\n",
        "    value = self.w_v(v)\n",
        "\n",
        "    query = query.view(query.shape[0], query.shape[1], self.h, self.d_k).transpose(1,2)\n",
        "    key = key.view(key.shape[0], key.shape[1], self.h, self.d_k).transpose(1,2)\n",
        "    value = value.view(value.shape[0], value.shape[1], self.h, self.d_k).transpose(1,2)\n",
        "\n",
        "    x, self.attention_score = MultiHeadAttentionBlock.attention(query, key, value, mask, self.dropout)\n",
        "    x = x.transpose(2,1).contiguous().view(x.shape[0], -1, self.h * self.d_k)\n",
        "    return self.w_o(x)"
      ],
      "metadata": {
        "id": "_3T1hHplNHz9"
      },
      "execution_count": 10,
      "outputs": []
    },
    {
      "cell_type": "markdown",
      "source": [
        "Layer Normalization"
      ],
      "metadata": {
        "id": "QZ1HJv6KM-3R"
      }
    },
    {
      "cell_type": "code",
      "source": [
        "class LayerNormalization(nn.Module):\n",
        "  def __init__(self, eps = 10**-6):\n",
        "    super().__init__()\n",
        "    self.eps = eps\n",
        "\n",
        "    self.gamma = nn.Parameter(torch.ones(1))\n",
        "    self.beta = nn.Parameter(torch.zeros(1))\n",
        "\n",
        "  def forward(self, x):\n",
        "    mean = x.mean(dim=-1, keepdim=True)\n",
        "    std = x.std(dim=-1, keepdim=True)\n",
        "    return (self.gamma * ((x - mean) / (std + self.eps))) * self.beta"
      ],
      "metadata": {
        "id": "jrxad6TnM90J"
      },
      "execution_count": 11,
      "outputs": []
    },
    {
      "cell_type": "markdown",
      "source": [
        "FeedForward Network"
      ],
      "metadata": {
        "id": "k_1q_JNbYcBR"
      }
    },
    {
      "cell_type": "code",
      "source": [
        "class FeedForwardBlock(nn.Module):\n",
        "  def __init__(self, d_model, d_ff, dropout):\n",
        "    super().__init__()\n",
        "    self.linear_1 = nn.Linear(d_model, d_ff)\n",
        "    self.dropout = nn.Dropout(dropout)\n",
        "    self.linear_2 = nn.Linear(d_ff, d_model)\n",
        "\n",
        "  def forward(self, x):\n",
        "    return self.linear_2(self.dropout(torch.relu(self.linear_1(x))))"
      ],
      "metadata": {
        "id": "rHDn7msmXEPm"
      },
      "execution_count": 12,
      "outputs": []
    }
  ]
}