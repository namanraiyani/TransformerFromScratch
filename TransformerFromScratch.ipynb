{
  "nbformat": 4,
  "nbformat_minor": 0,
  "metadata": {
    "colab": {
      "provenance": [],
      "authorship_tag": "ABX9TyO2irVTX2u8Nir8rBuJmEjn",
      "include_colab_link": true
    },
    "kernelspec": {
      "name": "python3",
      "display_name": "Python 3"
    },
    "language_info": {
      "name": "python"
    }
  },
  "cells": [
    {
      "cell_type": "markdown",
      "metadata": {
        "id": "view-in-github",
        "colab_type": "text"
      },
      "source": [
        "<a href=\"https://colab.research.google.com/github/namanraiyani/TransformerFromScratch/blob/main/TransformerFromScratch.ipynb\" target=\"_parent\"><img src=\"https://colab.research.google.com/assets/colab-badge.svg\" alt=\"Open In Colab\"/></a>"
      ]
    },
    {
      "cell_type": "code",
      "source": [
        "import torch\n",
        "import torch.nn as nn\n",
        "from torch.utils.data import Dataset, DataLoader, random_split\n",
        "from torch.utils.tensorboard import SummaryWriter\n",
        "import math\n",
        "from datasets import load_dataset\n",
        "from tokenizers import Tokenizer\n",
        "from tokenizers.models import WordLevel\n",
        "from tokenizers.trainers import WordLevelTrainer\n",
        "from tokenizers.pre_tokenizers import Whitespace"
      ],
      "metadata": {
        "id": "9tlp1WK50f3_"
      },
      "execution_count": 1,
      "outputs": []
    },
    {
      "cell_type": "markdown",
      "source": [
        "Input Embedding"
      ],
      "metadata": {
        "id": "A3R4c_dt6pn7"
      }
    },
    {
      "cell_type": "code",
      "source": [
        "class InputEmbeddings(nn.Module):\n",
        "  def __init__(self, embedding_dim, vocab_size):   # embedding_dim is d_model\n",
        "    super().__init__()\n",
        "    self.embedding_dim = embedding_dim\n",
        "    self.vocab_size = vocab_size\n",
        "    self.embedding = nn.Embedding(vocab_size, embedding_dim)\n",
        "\n",
        "  def forward(self, x):\n",
        "    return self.embedding(x) * math.sqrt(self.embedding_dim) # scale embeddings to match positional encoding scale"
      ],
      "metadata": {
        "id": "x2tWcjXuuH4A"
      },
      "execution_count": 15,
      "outputs": []
    },
    {
      "cell_type": "markdown",
      "source": [
        "Positional Encoding"
      ],
      "metadata": {
        "id": "qQtLartK6uJJ"
      }
    },
    {
      "cell_type": "code",
      "source": [
        "class PositionalEncoding(nn.Module):\n",
        "  def __init__(self, embedding_dim, sequence_len, dropout):\n",
        "    super().__init__()\n",
        "    self.embedding_dim = embedding_dim\n",
        "    self.sequence_len = sequence_len\n",
        "    self.dropout = nn.Dropout(dropout)\n",
        "\n",
        "    PE = torch.zeros(sequence_len, embedding_dim)\n",
        "    position = torch.arange(0, sequence_len, dtype = torch.float)\n",
        "    positition = position.unsqueeze(1)\n",
        "\n",
        "    denominator_term = torch.exp(torch.arange(0, embedding_dim, step = 2).float() * (-math.log(10000.0) / embedding_dim))\n",
        "\n",
        "    PE[:, 0::2] = torch.sin(position * denominator_term)\n",
        "    PE[:, 1::2] = torch.cos(position * denominator_term)\n",
        "    PE = PE.unsqueeze(0)\n",
        "\n",
        "    self.register_buffer('PE', PE)\n",
        "\n",
        "  def forward(self, x):\n",
        "    x = x + (self.PE[:, :x.shape[1], :]).requires_grad_(False)\n",
        "    return self.dropout(x)"
      ],
      "metadata": {
        "id": "DIneExxI0gkI"
      },
      "execution_count": 18,
      "outputs": []
    }
  ]
}